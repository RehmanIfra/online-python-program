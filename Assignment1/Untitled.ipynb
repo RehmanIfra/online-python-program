{
 "cells": [
  {
   "cell_type": "code",
   "execution_count": null,
   "id": "e9614876",
   "metadata": {},
   "outputs": [],
   "source": []
  },
  {
   "cell_type": "code",
   "execution_count": 46,
   "id": "fc3d87f3",
   "metadata": {},
   "outputs": [
    {
     "name": "stdout",
     "output_type": "stream",
     "text": [
      "Twinkle,twinkle,little star,\n",
      "        How I wonder what you are!\n",
      "                Up above the world so high,\n",
      "                Like a diamond in the sky.\n",
      "Twinkle,twinkle,little star,\n",
      "        How I wonder what you are\n"
     ]
    }
   ],
   "source": [
    "a = \"Twinkle,twinkle,little star,\\n\";\n",
    "b = \"        How I wonder what you are!\\n\";\n",
    "c = \"                Up above the world so high,\\n\";\n",
    "d = \"                Like a diamond in the sky.\\n\";\n",
    "e = \"Twinkle,twinkle,little star,\\n\";\n",
    "f = \"        How I wonder what you are\";\n",
    "print(a + b + c + d + e + f)"
   ]
  },
  {
   "cell_type": "code",
   "execution_count": 53,
   "id": "72c9a4c0",
   "metadata": {},
   "outputs": [
    {
     "name": "stdout",
     "output_type": "stream",
     "text": [
      "3.9.7 (default, Sep 16 2021, 16:59:28) [MSC v.1916 64 bit (AMD64)]\n"
     ]
    }
   ],
   "source": [
    "import sys\n",
    "print(sys.version)"
   ]
  },
  {
   "cell_type": "code",
   "execution_count": 1,
   "id": "54da5790",
   "metadata": {},
   "outputs": [
    {
     "name": "stdout",
     "output_type": "stream",
     "text": [
      " Date = December-31-2021\n",
      " Time = 03:31:31\n"
     ]
    }
   ],
   "source": [
    "from datetime import datetime\n",
    "today = datetime.today()\n",
    "# dd/mm/yy H:M:S\n",
    "Date = today.strftime(\"%B-%d-%Y\\n\")\n",
    "Time = today.strftime(\"%H:%M:%S\")\n",
    "print(\" Date =\", Date, \"Time =\", Time,)"
   ]
  },
  {
   "cell_type": "code",
   "execution_count": 3,
   "id": "3d6da684",
   "metadata": {},
   "outputs": [
    {
     "name": "stdout",
     "output_type": "stream",
     "text": [
      "Enter radius of circle :4.4\n",
      "Area of the circle with radius 4.4 is: 60.821233773498406\n"
     ]
    }
   ],
   "source": [
    "from math import pi\n",
    "radius = float(input (\"Enter radius of circle :\"))\n",
    "print(\"Area of the circle with radius \" + str(radius) + \" is: \" +str(pi * radius**2))"
   ]
  },
  {
   "cell_type": "code",
   "execution_count": 15,
   "id": "9c69e1d2",
   "metadata": {},
   "outputs": [
    {
     "name": "stdout",
     "output_type": "stream",
     "text": [
      "Enter first name : IFRA\n",
      "Enter last name : REHMAN\n",
      "Name in reverse order is: REHMAN IFRA\n"
     ]
    }
   ],
   "source": [
    "first_name = (input(\"Enter first name :\"))\n",
    "last_name = (input(\"Enter last name :\"))\n",
    "print(\"Name in reverse order is:\" + last_name + first_name)"
   ]
  },
  {
   "cell_type": "code",
   "execution_count": 19,
   "id": "8b76212b",
   "metadata": {
    "scrolled": true
   },
   "outputs": [
    {
     "name": "stdout",
     "output_type": "stream",
     "text": [
      "Enter value of x : 4.1\n",
      "Enter value of y : 3.4\n",
      "Addition result is: 7.5\n"
     ]
    }
   ],
   "source": [
    "x = float(input(\"Enter value of x :\"))\n",
    "y = float(input(\"Enter value of y :\"))\n",
    "z = x + y;\n",
    "print(\"Addition result is: \" + str( z))"
   ]
  },
  {
   "cell_type": "code",
   "execution_count": null,
   "id": "1cd2eb26",
   "metadata": {},
   "outputs": [],
   "source": []
  }
 ],
 "metadata": {
  "kernelspec": {
   "display_name": "Python 3 (ipykernel)",
   "language": "python",
   "name": "python3"
  },
  "language_info": {
   "codemirror_mode": {
    "name": "ipython",
    "version": 3
   },
   "file_extension": ".py",
   "mimetype": "text/x-python",
   "name": "python",
   "nbconvert_exporter": "python",
   "pygments_lexer": "ipython3",
   "version": "3.9.7"
  }
 },
 "nbformat": 4,
 "nbformat_minor": 5
}
